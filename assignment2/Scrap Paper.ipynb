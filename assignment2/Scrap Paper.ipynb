{
 "cells": [
  {
   "cell_type": "code",
   "execution_count": 72,
   "metadata": {},
   "outputs": [],
   "source": [
    "import numpy as np\n",
    "from typing import List, Tuple\n",
    "from random import shuffle"
   ]
  },
  {
   "cell_type": "code",
   "execution_count": 121,
   "metadata": {},
   "outputs": [],
   "source": [
    "raw_scores = np.loadtxt('raw_scores.txt').tolist()\n",
    "genders = []\n",
    "with open('genders.txt', 'r') as file:\n",
    "    for line in file:\n",
    "        curr = line[:-1]\n",
    "        genders.append(curr)\n",
    "\n",
    "gender_preferences = []\n",
    "with open('gender_preferences.txt', 'r') as file:\n",
    "    for line in file:\n",
    "        curr = line[:-1]\n",
    "        gender_preferences.append(curr)"
   ]
  },
  {
   "cell_type": "code",
   "execution_count": 74,
   "metadata": {},
   "outputs": [],
   "source": [
    "gender_match_dict = {\n",
    "    'Female' : ['Women', 'Bisexual', 'Pansexual', 'Lesbian'],\n",
    "    'Male' : ['Men', 'Bisexual', 'Pansexual', 'Gay'],\n",
    "    'Nonbinary' : ['Pansexual'],\n",
    "}"
   ]
  },
  {
   "cell_type": "code",
   "execution_count": 122,
   "metadata": {},
   "outputs": [],
   "source": [
    "def generate_prefs(group1, group2):\n",
    "    group1_preferences = dict()\n",
    "    for g1_mem in group1:\n",
    "        # filter only the scores that correspond to the receivers\n",
    "        g1_mem_scores = np.array(raw_scores[g1_mem])[np.array(group2)]\n",
    "        for i, g2_mem in enumerate(group2):\n",
    "            if gender_preferences[g1_mem] not in gender_match_dict[genders[g2_mem]]:\n",
    "                g1_mem_scores[i] = 0\n",
    "        # sort the receivers based on prop's scores in descending order\n",
    "        group1_preferences[g1_mem] = np.array(group2)[np.argsort(g1_mem_scores)[::-1]].tolist()\n",
    "    return group1_preferences"
   ]
  },
  {
   "cell_type": "code",
   "execution_count": 123,
   "metadata": {},
   "outputs": [],
   "source": [
    "def run_matching(scores: List[List], gender_id: List, gender_pref: List) -> List[Tuple]:\n",
    "    matches = dict()\n",
    "    num_people = len(genders)\n",
    "    lst = [i for i in range(num_people)]\n",
    "    # randomly split into 2 groups\n",
    "    shuffle(lst)\n",
    "    proposers = lst[:num_people // 2]\n",
    "    receivers = lst[num_people // 2:]\n",
    "    \n",
    "    prop_prefs = generate_prefs(proposers, receivers)\n",
    "    rec_prefs = generate_prefs(receivers, proposers)\n",
    "    \n",
    "    free_proposers = proposers\n",
    "    # continue until all proposers have been matched\n",
    "    while free_proposers:\n",
    "        prop = free_proposers[0]\n",
    "        for rec in prop_prefs[prop]:\n",
    "            # if receiver is unmatched\n",
    "            if rec not in matches.keys():\n",
    "                matches[rec] = prop\n",
    "                free_proposers.remove(prop)\n",
    "                break\n",
    "            # if receiver is matched but new match is better\n",
    "            elif rec_prefs[rec].index(prop) < rec_prefs[rec].index(matches[rec]):\n",
    "                free_proposers.append(matches[rec])\n",
    "                matches[rec] = prop\n",
    "                free_proposers.remove(prop)\n",
    "                break\n",
    "    # matches stored in dict as receiver:proposer pairs\n",
    "    return [(v,k) for k,v in matches.items()]"
   ]
  },
  {
   "cell_type": "code",
   "execution_count": 128,
   "metadata": {},
   "outputs": [
    {
     "data": {
      "text/plain": [
       "[(4, 0), (3, 2), (9, 5), (7, 1), (8, 6)]"
      ]
     },
     "execution_count": 128,
     "metadata": {},
     "output_type": "execute_result"
    }
   ],
   "source": [
    "run_matching(raw_scores, genders, gender_preferences)"
   ]
  },
  {
   "cell_type": "code",
   "execution_count": 103,
   "metadata": {},
   "outputs": [
    {
     "data": {
      "text/plain": [
       "[4]"
      ]
     },
     "execution_count": 103,
     "metadata": {},
     "output_type": "execute_result"
    }
   ],
   "source": []
  },
  {
   "cell_type": "code",
   "execution_count": null,
   "metadata": {},
   "outputs": [],
   "source": []
  },
  {
   "cell_type": "code",
   "execution_count": null,
   "metadata": {},
   "outputs": [],
   "source": []
  }
 ],
 "metadata": {
  "kernelspec": {
   "display_name": "Python 3",
   "language": "python",
   "name": "python3"
  },
  "language_info": {
   "codemirror_mode": {
    "name": "ipython",
    "version": 3
   },
   "file_extension": ".py",
   "mimetype": "text/x-python",
   "name": "python",
   "nbconvert_exporter": "python",
   "pygments_lexer": "ipython3",
   "version": "3.8.3"
  }
 },
 "nbformat": 4,
 "nbformat_minor": 4
}
